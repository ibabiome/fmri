{
 "cells": [
  {
   "cell_type": "code",
   "execution_count": 199,
   "metadata": {
    "collapsed": true
   },
   "outputs": [],
   "source": [
    "import os\n",
    "from scipy.io import loadmat\n",
    "import dataExtract_latest\n",
    "from sklearn.model_selection import train_test_split\n",
    "from sklearn import svm\n",
    "from sklearn import metrics\n",
    "import numpy as np\n",
    "import matplotlib.pyplot as plt\n",
    "import pandas as pd"
   ]
  },
  {
   "cell_type": "code",
   "execution_count": 97,
   "metadata": {
    "collapsed": true
   },
   "outputs": [],
   "source": []
  },
  {
   "cell_type": "code",
   "execution_count": 281,
   "metadata": {
    "collapsed": true
   },
   "outputs": [],
   "source": [
    "subjects = [['04799'],['04820'],['04847'],['05675'],['05680'],['05710']]"
   ]
  },
  {
   "cell_type": "markdown",
   "metadata": {},
   "source": [
    "Load mat files of subjects using lodmat fucntion of scipy"
   ]
  },
  {
   "cell_type": "code",
   "execution_count": 163,
   "metadata": {
    "collapsed": true
   },
   "outputs": [],
   "source": [
    "mat04799  = loadmat('/Users/vinitsheth/SmlFinalProject/Data/data-starplus-04799-v7.mat')\n",
    "mat04820  = loadmat('/Users/vinitsheth/SmlFinalProject/Data/data-starplus-04820-v7.mat')\n",
    "mat04847  = loadmat('/Users/vinitsheth/SmlFinalProject/Data/data-starplus-04847-v7.mat')\n",
    "mat05675  = loadmat('/Users/vinitsheth/SmlFinalProject/Data/data-starplus-05675-v7.mat')\n",
    "mat05680  = loadmat('/Users/vinitsheth/SmlFinalProject/Data/data-starplus-05680-v7.mat')\n",
    "mat05710  = loadmat('/Users/vinitsheth/SmlFinalProject/Data/data-starplus-05710-v7.mat')"
   ]
  },
  {
   "cell_type": "markdown",
   "metadata": {},
   "source": [
    "Load meta of each subjects"
   ]
  },
  {
   "cell_type": "code",
   "execution_count": 164,
   "metadata": {
    "collapsed": true
   },
   "outputs": [],
   "source": [
    "mata04799 = dataExtract_latest.getMeta(mat04799)\n",
    "mata04820 = dataExtract_latest.getMeta(mat04820)\n",
    "mata04847 = dataExtract_latest.getMeta(mat04847)\n",
    "mata05675 = dataExtract_latest.getMeta(mat05675)\n",
    "mata05680 = dataExtract_latest.getMeta(mat05680)\n",
    "mata05710 = dataExtract_latest.getMeta(mat05710)"
   ]
  },
  {
   "cell_type": "markdown",
   "metadata": {},
   "source": [
    "subject 04799.\n",
    "\n",
    "generate Info for  each trial.\n",
    "\n",
    "Extract sentence data and picture data where cond is 2 or 3 for subject 04799.\n",
    "\n",
    "choose 0 to 15 for fist stimulus \n",
    "choose 16 to 31 for second stimulus\n",
    "\n",
    "First stimulus is shown for 4 seconds and 1 image is taken every 500 ms, But it is believed that effect remains for 8 seconds in voxels so 0 to 15 and 16 to 31 are taken.\n",
    "\n",
    "Store sentence and pictures differently"
   ]
  },
  {
   "cell_type": "code",
   "execution_count": 165,
   "metadata": {
    "collapsed": true
   },
   "outputs": [],
   "source": [
    "info04799 = []\n",
    "sentence04799 = []\n",
    "picture04799 = []\n",
    "rawData04799 = mat04799['data']\n",
    "for i in range(mata04799['ntrials']):\n",
    "    infoOfGivenTrial = dataExtract_latest.getInfoFromList(mat04799,i)\n",
    "    info04799.append(infoOfGivenTrial)\n",
    "    if infoOfGivenTrial['cond'] == 2 or infoOfGivenTrial['cond'] == 3:\n",
    "        if infoOfGivenTrial['firstStimulus'] == 'P':\n",
    "            for j in range(16):\n",
    "                picture04799.append(rawData04799[i][0][j])\n",
    "            for j in range(16,32):\n",
    "                sentence04799.append(rawData04799[i][0][j])\n",
    "        elif infoOfGivenTrial['firstStimulus'] == 'S':\n",
    "            for j in range(16):\n",
    "                sentence04799.append(rawData04799[i][0][j])\n",
    "            for j in range(16,32):\n",
    "                picture04799.append(rawData04799[i][0][j])\n",
    "            \n",
    "    "
   ]
  },
  {
   "cell_type": "markdown",
   "metadata": {},
   "source": [
    "make data variable to store all the data and label variable for storing labels\n",
    "\n",
    "label 1 for sentence\n",
    "\n",
    "label 0 for picture"
   ]
  },
  {
   "cell_type": "code",
   "execution_count": 167,
   "metadata": {
    "collapsed": true
   },
   "outputs": [],
   "source": [
    "data04799 = sentence04799+picture04799"
   ]
  },
  {
   "cell_type": "code",
   "execution_count": 168,
   "metadata": {
    "collapsed": true
   },
   "outputs": [],
   "source": [
    "labels04799 = [1]*len(sentence04799) + [0]*len(picture04799)"
   ]
  },
  {
   "cell_type": "code",
   "execution_count": 169,
   "metadata": {
    "collapsed": true
   },
   "outputs": [],
   "source": [
    "accuracy04799 = []\n",
    "for i in range(5):\n",
    "    x_train04799, x_test04799 , y_train04799, y_test04799 = train_test_split(data04799,labels04799,test_size = 0.2)\n",
    "    clf = svm.SVC(kernel='linear')\n",
    "    clf.fit(x_train04799, y_train04799)\n",
    "    y_pred04799 = clf.predict(x_test04799)\n",
    "    accuracy = metrics.accuracy_score(y_test04799, y_pred04799)\n",
    "    accuracy04799.append(accuracy)"
   ]
  },
  {
   "cell_type": "markdown",
   "metadata": {},
   "source": [
    "Doing the same procudere for remaining 5 subjects\n",
    "\n",
    "For Subject 04820"
   ]
  },
  {
   "cell_type": "code",
   "execution_count": 174,
   "metadata": {
    "collapsed": true
   },
   "outputs": [],
   "source": [
    "info04820 = []\n",
    "sentence04820 = []\n",
    "picture04820 = []\n",
    "rawData04820 = mat04820['data']\n",
    "for i in range(mata04820['ntrials']):\n",
    "    infoOfGivenTrial = dataExtract_latest.getInfoFromList(mat04820,i)\n",
    "    info04820.append(infoOfGivenTrial)\n",
    "    if infoOfGivenTrial['cond'] == 2 or infoOfGivenTrial['cond'] == 3:\n",
    "        if infoOfGivenTrial['firstStimulus'] == 'P':\n",
    "            for j in range(16):\n",
    "                picture04820.append(rawData04820[i][0][j])\n",
    "            for j in range(16,32):\n",
    "                sentence04820.append(rawData04820[i][0][j])\n",
    "        elif infoOfGivenTrial['firstStimulus'] == 'S':\n",
    "            for j in range(16):\n",
    "                sentence04820.append(rawData04820[i][0][j])\n",
    "            for j in range(16,32):\n",
    "                picture04820.append(rawData04820[i][0][j])\n",
    "            \n",
    "    "
   ]
  },
  {
   "cell_type": "code",
   "execution_count": 175,
   "metadata": {
    "collapsed": true
   },
   "outputs": [],
   "source": [
    "data04820 = sentence04820+picture04820\n",
    "labels04820 = [1]*len(sentence04820) + [0]*len(picture04820)\n",
    "accuracy04820 = []\n",
    "for i in range(5):\n",
    "    x_train04820, x_test04820 , y_train04820, y_test04820 = train_test_split(data04820,labels04820,test_size = 0.2)\n",
    "    clf = svm.SVC(kernel='linear')\n",
    "    clf.fit(x_train04820, y_train04820)\n",
    "    y_pred04820 = clf.predict(x_test04820)\n",
    "    accuracy = metrics.accuracy_score(y_test04820, y_pred04820)\n",
    "    accuracy04820.append(accuracy)"
   ]
  },
  {
   "cell_type": "markdown",
   "metadata": {},
   "source": [
    "For Subject 04847 "
   ]
  },
  {
   "cell_type": "code",
   "execution_count": 176,
   "metadata": {
    "collapsed": true
   },
   "outputs": [],
   "source": [
    "info04847 = []\n",
    "sentence04847 = []\n",
    "picture04847 = []\n",
    "rawData04847 = mat04847['data']\n",
    "for i in range(mata04847['ntrials']):\n",
    "    infoOfGivenTrial = dataExtract_latest.getInfoFromList(mat04847,i)\n",
    "    info04847.append(infoOfGivenTrial)\n",
    "    if infoOfGivenTrial['cond'] == 2 or infoOfGivenTrial['cond'] == 3:\n",
    "        if infoOfGivenTrial['firstStimulus'] == 'P':\n",
    "            for j in range(16):\n",
    "                picture04847.append(rawData04847[i][0][j])\n",
    "            for j in range(16,32):\n",
    "                sentence04847.append(rawData04847[i][0][j])\n",
    "        elif infoOfGivenTrial['firstStimulus'] == 'S':\n",
    "            for j in range(16):\n",
    "                sentence04847.append(rawData04847[i][0][j])\n",
    "            for j in range(16,32):\n",
    "                picture04847.append(rawData04847[i][0][j])\n",
    "data04847 = sentence04847+picture04847\n",
    "labels04847 = [1]*len(sentence04847) + [0]*len(picture04847)\n",
    "accuracy04847 = []\n",
    "for i in range(5):\n",
    "    x_train04847, x_test04847 , y_train04847, y_test04847 = train_test_split(data04847,labels04847,test_size = 0.2)\n",
    "    clf = svm.SVC(kernel='linear')\n",
    "    clf.fit(x_train04847, y_train04847)\n",
    "    y_pred04847 = clf.predict(x_test04847)\n",
    "    accuracy = metrics.accuracy_score(y_test04847, y_pred04847)\n",
    "    accuracy04847.append(accuracy)"
   ]
  },
  {
   "cell_type": "markdown",
   "metadata": {},
   "source": [
    "For Subject 05675"
   ]
  },
  {
   "cell_type": "code",
   "execution_count": 177,
   "metadata": {
    "collapsed": true
   },
   "outputs": [],
   "source": [
    "info05675 = []\n",
    "sentence05675 = []\n",
    "picture05675 = []\n",
    "rawData05675 = mat05675['data']\n",
    "for i in range(mata05675['ntrials']):\n",
    "    infoOfGivenTrial = dataExtract_latest.getInfoFromList(mat05675,i)\n",
    "    info05675.append(infoOfGivenTrial)\n",
    "    if infoOfGivenTrial['cond'] == 2 or infoOfGivenTrial['cond'] == 3:\n",
    "        if infoOfGivenTrial['firstStimulus'] == 'P':\n",
    "            for j in range(16):\n",
    "                picture05675.append(rawData05675[i][0][j])\n",
    "            for j in range(16,32):\n",
    "                sentence05675.append(rawData05675[i][0][j])\n",
    "        elif infoOfGivenTrial['firstStimulus'] == 'S':\n",
    "            for j in range(16):\n",
    "                sentence05675.append(rawData05675[i][0][j])\n",
    "            for j in range(16,32):\n",
    "                picture05675.append(rawData05675[i][0][j])\n",
    "data05675 = sentence05675+picture05675\n",
    "labels05675 = [1]*len(sentence05675) + [0]*len(picture05675)\n",
    "accuracy05675 = []\n",
    "for i in range(5):\n",
    "    x_train05675, x_test05675 , y_train05675, y_test05675 = train_test_split(data05675,labels05675,test_size = 0.2)\n",
    "    clf = svm.SVC(kernel='linear')\n",
    "    clf.fit(x_train05675, y_train05675)\n",
    "    y_pred05675 = clf.predict(x_test05675)\n",
    "    accuracy = metrics.accuracy_score(y_test05675, y_pred05675)\n",
    "    accuracy05675.append(accuracy)"
   ]
  },
  {
   "cell_type": "markdown",
   "metadata": {},
   "source": [
    "For Subject 05680"
   ]
  },
  {
   "cell_type": "code",
   "execution_count": 178,
   "metadata": {
    "collapsed": true
   },
   "outputs": [],
   "source": [
    "info05680 = []\n",
    "sentence05680 = []\n",
    "picture05680 = []\n",
    "rawData05680 = mat05680['data']\n",
    "for i in range(mata05680['ntrials']):\n",
    "    infoOfGivenTrial = dataExtract_latest.getInfoFromList(mat05680,i)\n",
    "    info05680.append(infoOfGivenTrial)\n",
    "    if infoOfGivenTrial['cond'] == 2 or infoOfGivenTrial['cond'] == 3:\n",
    "        if infoOfGivenTrial['firstStimulus'] == 'P':\n",
    "            for j in range(16):\n",
    "                picture05680.append(rawData05680[i][0][j])\n",
    "            for j in range(16,32):\n",
    "                sentence05680.append(rawData05680[i][0][j])\n",
    "        elif infoOfGivenTrial['firstStimulus'] == 'S':\n",
    "            for j in range(16):\n",
    "                sentence05680.append(rawData05680[i][0][j])\n",
    "            for j in range(16,32):\n",
    "                picture05680.append(rawData05680[i][0][j])\n",
    "data05680 = sentence05680+picture05680\n",
    "labels05680 = [1]*len(sentence05680) + [0]*len(picture05680)\n",
    "accuracy05680 = []\n",
    "for i in range(5):\n",
    "    x_train05680, x_test05680 , y_train05680, y_test05680 = train_test_split(data05680,labels05680,test_size = 0.2)\n",
    "    clf = svm.SVC(kernel='linear')\n",
    "    clf.fit(x_train05680, y_train05680)\n",
    "    y_pred05680 = clf.predict(x_test05680)\n",
    "    accuracy = metrics.accuracy_score(y_test05680, y_pred05680)\n",
    "    accuracy05680.append(accuracy)"
   ]
  },
  {
   "cell_type": "markdown",
   "metadata": {},
   "source": [
    "For Subject 05710"
   ]
  },
  {
   "cell_type": "code",
   "execution_count": 179,
   "metadata": {
    "collapsed": true
   },
   "outputs": [],
   "source": [
    "info05710 = []\n",
    "sentence05710 = []\n",
    "picture05710 = []\n",
    "rawData05710 = mat05710['data']\n",
    "for i in range(mata05710['ntrials']):\n",
    "    infoOfGivenTrial = dataExtract_latest.getInfoFromList(mat05710,i)\n",
    "    info05710.append(infoOfGivenTrial)\n",
    "    if infoOfGivenTrial['cond'] == 2 or infoOfGivenTrial['cond'] == 3:\n",
    "        if infoOfGivenTrial['firstStimulus'] == 'P':\n",
    "            for j in range(16):\n",
    "                picture05710.append(rawData05710[i][0][j])\n",
    "            for j in range(16,32):\n",
    "                sentence05710.append(rawData05710[i][0][j])\n",
    "        elif infoOfGivenTrial['firstStimulus'] == 'S':\n",
    "            for j in range(16):\n",
    "                sentence05710.append(rawData05710[i][0][j])\n",
    "            for j in range(16,32):\n",
    "                picture05710.append(rawData05710[i][0][j])\n",
    "data05710 = sentence05710+picture05710\n",
    "labels05710 = [1]*len(sentence05710) + [0]*len(picture05710)\n",
    "accuracy05710 = []\n",
    "for i in range(5):\n",
    "    x_train05710, x_test05710 , y_train05710, y_test05710 = train_test_split(data05710,labels05710,test_size = 0.2)\n",
    "    clf = svm.SVC(kernel='linear')\n",
    "    clf.fit(x_train05710, y_train05710)\n",
    "    y_pred05710 = clf.predict(x_test05710)\n",
    "    accuracy = metrics.accuracy_score(y_test05710, y_pred05710)\n",
    "    accuracy05710.append(accuracy)"
   ]
  },
  {
   "cell_type": "markdown",
   "metadata": {},
   "source": [
    "Format data for plotting "
   ]
  },
  {
   "cell_type": "code",
   "execution_count": null,
   "metadata": {
    "collapsed": true
   },
   "outputs": [],
   "source": []
  },
  {
   "cell_type": "code",
   "execution_count": 299,
   "metadata": {
    "collapsed": true
   },
   "outputs": [],
   "source": [
    "append0 = list(subjects[0])\n",
    "append1 = list(subjects[1])\n",
    "append2 = list(subjects[2])\n",
    "append3 = list(subjects[3])\n",
    "append4 = list(subjects[4])\n",
    "append5 = list(subjects[5])\n",
    "append0.extend(accuracy04799)\n",
    "append0.append(np.average(accuracy04799))\n",
    "append1.extend(accuracy04820)\n",
    "append1.append(np.average(accuracy04820))\n",
    "append2.extend(accuracy04847)\n",
    "append2.append(np.average(accuracy04847))\n",
    "append3.extend(accuracy05675)\n",
    "append3.append(np.average(accuracy05675))\n",
    "append4.extend(accuracy05680)\n",
    "append4.append(np.average(accuracy05680))\n",
    "append5.extend(accuracy05710)\n",
    "append5.append(np.average(accuracy05710))\n",
    "dataForPlot=[]\n",
    "dataForPlot.append(append0)\n",
    "dataForPlot.append(append1)\n",
    "dataForPlot.append(append2)\n",
    "dataForPlot.append(append3)\n",
    "dataForPlot.append(append4)\n",
    "dataForPlot.append(append5)\n",
    "labelsForPlot = ['SUBJECT NUM',1,2,3,4,5,'AVERAGE']"
   ]
  },
  {
   "cell_type": "markdown",
   "metadata": {},
   "source": [
    "Ganerated table will show the table of accuracies for given all the subjects for 5 rounds and then average.\n",
    "when 16 images are taken for each stimuli."
   ]
  },
  {
   "cell_type": "code",
   "execution_count": 301,
   "metadata": {},
   "outputs": [
    {
     "data": {
      "image/png": "[encoded data removed]",
      "text/plain": [
       "<matplotlib.figure.Figure at 0x12d2ebd90>"
      ]
     },
     "metadata": {},
     "output_type": "display_data"
    }
   ],
   "source": [
    "plt.rcParams[\"figure.figsize\"] = (20,3)\n",
    "plt.rcParams.update({'font.size': 10})\n",
    "\n",
    "\n",
    "fig, ax = plt.subplots()\n",
    "\n",
    "\n",
    "ax.xaxis.set_visible(False) \n",
    "ax.yaxis.set_visible(False)\n",
    "\n",
    "\n",
    "clust_data = np.random.random((10,3))\n",
    "collabel=(\"col 1\", \"col 2\", \"col 3\")\n",
    "#ax.table(cellText=df.values,colLabels=df.columns,loc='center')\n",
    "ax.table(cellText=dataForPlot,colLabels=labelsForPlot,loc='center')\n",
    "plt.show()\n"
   ]
  },
  {
   "cell_type": "markdown",
   "metadata": {},
   "source": [
    "Generate Info for each trial.\n",
    "\n",
    "Extract sentence data and picture data where cond is 2 or 3 for subject 04799.\n",
    "\n",
    "choose 0 to 7 for fist stimulus choose 16 to 23 for second stimulus\n",
    "\n",
    "First stimulus is shown for 4 seconds and 1 image is taken every 500 ms."
   ]
  },
  {
   "cell_type": "code",
   "execution_count": 303,
   "metadata": {
    "collapsed": true
   },
   "outputs": [],
   "source": [
    "info04799 = []\n",
    "sentence04799 = []\n",
    "picture04799 = []\n",
    "rawData04799 = mat04799['data']\n",
    "for i in range(mata04799['ntrials']):\n",
    "    infoOfGivenTrial = dataExtract_latest.getInfoFromList(mat04799,i)\n",
    "    info04799.append(infoOfGivenTrial)\n",
    "    if infoOfGivenTrial['cond'] == 2 or infoOfGivenTrial['cond'] == 3:\n",
    "        if infoOfGivenTrial['firstStimulus'] == 'P':\n",
    "            for j in range(8):\n",
    "                picture04799.append(rawData04799[i][0][j])\n",
    "            for j in range(16,24):\n",
    "                sentence04799.append(rawData04799[i][0][j])\n",
    "        elif infoOfGivenTrial['firstStimulus'] == 'S':\n",
    "            for j in range(8):\n",
    "                sentence04799.append(rawData04799[i][0][j])\n",
    "            for j in range(16,24):\n",
    "                picture04799.append(rawData04799[i][0][j])"
   ]
  },
  {
   "cell_type": "markdown",
   "metadata": {},
   "source": [
    "make data variable to store all the data and label variable for storing labels\n",
    "\n",
    "label 1 for sentence\n",
    "\n",
    "label 0 for picture"
   ]
  },
  {
   "cell_type": "code",
   "execution_count": 308,
   "metadata": {
    "collapsed": true
   },
   "outputs": [],
   "source": [
    "data04799 = sentence04799+picture04799"
   ]
  },
  {
   "cell_type": "code",
   "execution_count": 309,
   "metadata": {
    "collapsed": true
   },
   "outputs": [],
   "source": [
    "labels04799 = [1]*len(sentence04799) + [0]*len(picture04799)"
   ]
  },
  {
   "cell_type": "code",
   "execution_count": 310,
   "metadata": {
    "collapsed": true
   },
   "outputs": [],
   "source": [
    "accuracy04799 = []\n",
    "for i in range(5):\n",
    "    x_train04799, x_test04799 , y_train04799, y_test04799 = train_test_split(data04799,labels04799,test_size = 0.2)\n",
    "    clf = svm.SVC(kernel='linear')\n",
    "    clf.fit(x_train04799, y_train04799)\n",
    "    y_pred04799 = clf.predict(x_test04799)\n",
    "    accuracy = metrics.accuracy_score(y_test04799, y_pred04799)\n",
    "    accuracy04799.append(accuracy)"
   ]
  },
  {
   "cell_type": "markdown",
   "metadata": {},
   "source": [
    "Doing the same procudere for remaining 5 subjects\n",
    "\n",
    "For Subject 04820"
   ]
  },
  {
   "cell_type": "code",
   "execution_count": 311,
   "metadata": {
    "collapsed": true
   },
   "outputs": [],
   "source": [
    "info04820 = []\n",
    "sentence04820 = []\n",
    "picture04820 = []\n",
    "rawData04820 = mat04820['data']\n",
    "for i in range(mata04820['ntrials']):\n",
    "    infoOfGivenTrial = dataExtract_latest.getInfoFromList(mat04820,i)\n",
    "    info04820.append(infoOfGivenTrial)\n",
    "    if infoOfGivenTrial['cond'] == 2 or infoOfGivenTrial['cond'] == 3:\n",
    "        if infoOfGivenTrial['firstStimulus'] == 'P':\n",
    "            for j in range(8):\n",
    "                picture04820.append(rawData04820[i][0][j])\n",
    "            for j in range(16,23):\n",
    "                sentence04820.append(rawData04820[i][0][j])\n",
    "        elif infoOfGivenTrial['firstStimulus'] == 'S':\n",
    "            for j in range(8):\n",
    "                sentence04820.append(rawData04820[i][0][j])\n",
    "            for j in range(16,23):\n",
    "                picture04820.append(rawData04820[i][0][j])\n",
    "            \n",
    "    "
   ]
  },
  {
   "cell_type": "code",
   "execution_count": 312,
   "metadata": {
    "collapsed": true
   },
   "outputs": [],
   "source": [
    "data04820 = sentence04820+picture04820\n",
    "labels04820 = [1]*len(sentence04820) + [0]*len(picture04820)\n",
    "accuracy04820 = []\n",
    "for i in range(5):\n",
    "    x_train04820, x_test04820 , y_train04820, y_test04820 = train_test_split(data04820,labels04820,test_size = 0.2)\n",
    "    clf = svm.SVC(kernel='linear')\n",
    "    clf.fit(x_train04820, y_train04820)\n",
    "    y_pred04820 = clf.predict(x_test04820)\n",
    "    accuracy = metrics.accuracy_score(y_test04820, y_pred04820)\n",
    "    accuracy04820.append(accuracy)"
   ]
  },
  {
   "cell_type": "markdown",
   "metadata": {},
   "source": [
    "For Subject 04847 "
   ]
  },
  {
   "cell_type": "code",
   "execution_count": 313,
   "metadata": {
    "collapsed": true
   },
   "outputs": [],
   "source": [
    "info04847 = []\n",
    "sentence04847 = []\n",
    "picture04847 = []\n",
    "rawData04847 = mat04847['data']\n",
    "for i in range(mata04847['ntrials']):\n",
    "    infoOfGivenTrial = dataExtract_latest.getInfoFromList(mat04847,i)\n",
    "    info04847.append(infoOfGivenTrial)\n",
    "    if infoOfGivenTrial['cond'] == 2 or infoOfGivenTrial['cond'] == 3:\n",
    "        if infoOfGivenTrial['firstStimulus'] == 'P':\n",
    "            for j in range(8):\n",
    "                picture04847.append(rawData04847[i][0][j])\n",
    "            for j in range(16,24):\n",
    "                sentence04847.append(rawData04847[i][0][j])\n",
    "        elif infoOfGivenTrial['firstStimulus'] == 'S':\n",
    "            for j in range(8):\n",
    "                sentence04847.append(rawData04847[i][0][j])\n",
    "            for j in range(16,24):\n",
    "                picture04847.append(rawData04847[i][0][j])\n",
    "data04847 = sentence04847+picture04847\n",
    "labels04847 = [1]*len(sentence04847) + [0]*len(picture04847)\n",
    "accuracy04847 = []\n",
    "for i in range(5):\n",
    "    x_train04847, x_test04847 , y_train04847, y_test04847 = train_test_split(data04847,labels04847,test_size = 0.2)\n",
    "    clf = svm.SVC(kernel='linear')\n",
    "    clf.fit(x_train04847, y_train04847)\n",
    "    y_pred04847 = clf.predict(x_test04847)\n",
    "    accuracy = metrics.accuracy_score(y_test04847, y_pred04847)\n",
    "    accuracy04847.append(accuracy)"
   ]
  },
  {
   "cell_type": "markdown",
   "metadata": {},
   "source": [
    "For Subject 05675"
   ]
  },
  {
   "cell_type": "code",
   "execution_count": 177,
   "metadata": {
    "collapsed": true
   },
   "outputs": [],
   "source": [
    "info05675 = []\n",
    "sentence05675 = []\n",
    "picture05675 = []\n",
    "rawData05675 = mat05675['data']\n",
    "for i in range(mata05675['ntrials']):\n",
    "    infoOfGivenTrial = dataExtract_latest.getInfoFromList(mat05675,i)\n",
    "    info05675.append(infoOfGivenTrial)\n",
    "    if infoOfGivenTrial['cond'] == 2 or infoOfGivenTrial['cond'] == 3:\n",
    "        if infoOfGivenTrial['firstStimulus'] == 'P':\n",
    "            for j in range(16):\n",
    "                picture05675.append(rawData05675[i][0][j])\n",
    "            for j in range(16,32):\n",
    "                sentence05675.append(rawData05675[i][0][j])\n",
    "        elif infoOfGivenTrial['firstStimulus'] == 'S':\n",
    "            for j in range(16):\n",
    "                sentence05675.append(rawData05675[i][0][j])\n",
    "            for j in range(16,32):\n",
    "                picture05675.append(rawData05675[i][0][j])\n",
    "data05675 = sentence05675+picture05675\n",
    "labels05675 = [1]*len(sentence05675) + [0]*len(picture05675)\n",
    "accuracy05675 = []\n",
    "for i in range(5):\n",
    "    x_train05675, x_test05675 , y_train05675, y_test05675 = train_test_split(data05675,labels05675,test_size = 0.2)\n",
    "    clf = svm.SVC(kernel='linear')\n",
    "    clf.fit(x_train05675, y_train05675)\n",
    "    y_pred05675 = clf.predict(x_test05675)\n",
    "    accuracy = metrics.accuracy_score(y_test05675, y_pred05675)\n",
    "    accuracy05675.append(accuracy)"
   ]
  },
  {
   "cell_type": "markdown",
   "metadata": {},
   "source": [
    "For Subject 05680"
   ]
  },
  {
   "cell_type": "code",
   "execution_count": 314,
   "metadata": {
    "collapsed": true
   },
   "outputs": [],
   "source": [
    "info05680 = []\n",
    "sentence05680 = []\n",
    "picture05680 = []\n",
    "rawData05680 = mat05680['data']\n",
    "for i in range(mata05680['ntrials']):\n",
    "    infoOfGivenTrial = dataExtract_latest.getInfoFromList(mat05680,i)\n",
    "    info05680.append(infoOfGivenTrial)\n",
    "    if infoOfGivenTrial['cond'] == 2 or infoOfGivenTrial['cond'] == 3:\n",
    "        if infoOfGivenTrial['firstStimulus'] == 'P':\n",
    "            for j in range(16):\n",
    "                picture05680.append(rawData05680[i][0][j])\n",
    "            for j in range(16,32):\n",
    "                sentence05680.append(rawData05680[i][0][j])\n",
    "        elif infoOfGivenTrial['firstStimulus'] == 'S':\n",
    "            for j in range(16):\n",
    "                sentence05680.append(rawData05680[i][0][j])\n",
    "            for j in range(16,32):\n",
    "                picture05680.append(rawData05680[i][0][j])\n",
    "data05680 = sentence05680+picture05680\n",
    "labels05680 = [1]*len(sentence05680) + [0]*len(picture05680)\n",
    "accuracy05680 = []\n",
    "for i in range(5):\n",
    "    x_train05680, x_test05680 , y_train05680, y_test05680 = train_test_split(data05680,labels05680,test_size = 0.2)\n",
    "    clf = svm.SVC(kernel='linear')\n",
    "    clf.fit(x_train05680, y_train05680)\n",
    "    y_pred05680 = clf.predict(x_test05680)\n",
    "    accuracy = metrics.accuracy_score(y_test05680, y_pred05680)\n",
    "    accuracy05680.append(accuracy)"
   ]
  },
  {
   "cell_type": "markdown",
   "metadata": {},
   "source": [
    "For Subject 05710"
   ]
  },
  {
   "cell_type": "code",
   "execution_count": 315,
   "metadata": {
    "collapsed": true
   },
   "outputs": [],
   "source": [
    "info05710 = []\n",
    "sentence05710 = []\n",
    "picture05710 = []\n",
    "rawData05710 = mat05710['data']\n",
    "for i in range(mata05710['ntrials']):\n",
    "    infoOfGivenTrial = dataExtract_latest.getInfoFromList(mat05710,i)\n",
    "    info05710.append(infoOfGivenTrial)\n",
    "    if infoOfGivenTrial['cond'] == 2 or infoOfGivenTrial['cond'] == 3:\n",
    "        if infoOfGivenTrial['firstStimulus'] == 'P':\n",
    "            for j in range(16):\n",
    "                picture05710.append(rawData05710[i][0][j])\n",
    "            for j in range(16,32):\n",
    "                sentence05710.append(rawData05710[i][0][j])\n",
    "        elif infoOfGivenTrial['firstStimulus'] == 'S':\n",
    "            for j in range(16):\n",
    "                sentence05710.append(rawData05710[i][0][j])\n",
    "            for j in range(16,32):\n",
    "                picture05710.append(rawData05710[i][0][j])\n",
    "data05710 = sentence05710+picture05710\n",
    "labels05710 = [1]*len(sentence05710) + [0]*len(picture05710)\n",
    "accuracy05710 = []\n",
    "for i in range(5):\n",
    "    x_train05710, x_test05710 , y_train05710, y_test05710 = train_test_split(data05710,labels05710,test_size = 0.2)\n",
    "    clf = svm.SVC(kernel='linear')\n",
    "    clf.fit(x_train05710, y_train05710)\n",
    "    y_pred05710 = clf.predict(x_test05710)\n",
    "    accuracy = metrics.accuracy_score(y_test05710, y_pred05710)\n",
    "    accuracy05710.append(accuracy)"
   ]
  },
  {
   "cell_type": "markdown",
   "metadata": {},
   "source": [
    "Format data for plotting "
   ]
  },
  {
   "cell_type": "code",
   "execution_count": 316,
   "metadata": {
    "collapsed": true
   },
   "outputs": [],
   "source": [
    "append0 = list(subjects[0])\n",
    "append1 = list(subjects[1])\n",
    "append2 = list(subjects[2])\n",
    "append3 = list(subjects[3])\n",
    "append4 = list(subjects[4])\n",
    "append5 = list(subjects[5])\n",
    "append0.extend(accuracy04799)\n",
    "append0.append(np.average(accuracy04799))\n",
    "append1.extend(accuracy04820)\n",
    "append1.append(np.average(accuracy04820))\n",
    "append2.extend(accuracy04847)\n",
    "append2.append(np.average(accuracy04847))\n",
    "append3.extend(accuracy05675)\n",
    "append3.append(np.average(accuracy05675))\n",
    "append4.extend(accuracy05680)\n",
    "append4.append(np.average(accuracy05680))\n",
    "append5.extend(accuracy05710)\n",
    "append5.append(np.average(accuracy05710))\n",
    "dataForPlot=[]\n",
    "dataForPlot.append(append0)\n",
    "dataForPlot.append(append1)\n",
    "dataForPlot.append(append2)\n",
    "dataForPlot.append(append3)\n",
    "dataForPlot.append(append4)\n",
    "dataForPlot.append(append5)\n",
    "labelsForPlot = ['SUBJECT NUM',1,2,3,4,5,'AVERAGE']"
   ]
  },
  {
   "cell_type": "markdown",
   "metadata": {},
   "source": [
    "Ganerated table will show the table of accuracies for given all the subjects for 5 rounds and then average.\n",
    "when 16 images are taken for each stimuli."
   ]
  },
  {
   "cell_type": "code",
   "execution_count": 317,
   "metadata": {},
   "outputs": [
    {
     "data": {
      "image/png": "[encoded data removed]",
      "text/plain": [
       "<matplotlib.figure.Figure at 0x12eb78c10>"
      ]
     },
     "metadata": {},
     "output_type": "display_data"
    }
   ],
   "source": [
    "plt.rcParams[\"figure.figsize\"] = (20,3)\n",
    "plt.rcParams.update({'font.size': 10})\n",
    "\n",
    "\n",
    "fig, ax = plt.subplots()\n",
    "\n",
    "\n",
    "ax.xaxis.set_visible(False) \n",
    "ax.yaxis.set_visible(False)\n",
    "\n",
    "\n",
    "clust_data = np.random.random((10,3))\n",
    "collabel=(\"col 1\", \"col 2\", \"col 3\")\n",
    "#ax.table(cellText=df.values,colLabels=df.columns,loc='center')\n",
    "ax.table(cellText=dataForPlot,colLabels=labelsForPlot,loc='center')\n",
    "plt.show()\n"
   ]
  },
  {
   "cell_type": "code",
   "execution_count": null,
   "metadata": {
    "collapsed": true
   },
   "outputs": [],
   "source": []
  }
 ],
 "metadata": {
  "kernelspec": {
   "display_name": "Python 2",
   "language": "python",
   "name": "python2"
  },
  "language_info": {
   "codemirror_mode": {
    "name": "ipython",
    "version": 2
   },
   "file_extension": ".py",
   "mimetype": "text/x-python",
   "name": "python",
   "nbconvert_exporter": "python",
   "pygments_lexer": "ipython2",
   "version": "2.7.13"
  }
 },
 "nbformat": 4,
 "nbformat_minor": 2
}
