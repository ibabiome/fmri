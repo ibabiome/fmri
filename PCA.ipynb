{
 "cells": [
  {
   "cell_type": "code",
   "execution_count": 133,
   "metadata": {},
   "outputs": [
    {
     "ename": "ImportError",
     "evalue": "No module named load_data",
     "output_type": "error",
     "traceback": [
      "\u001b[0;31m---------------------------------------------------------------------------\u001b[0m",
      "\u001b[0;31mImportError\u001b[0m                               Traceback (most recent call last)",
      "\u001b[0;32m<ipython-input-133-c3c590867632>\u001b[0m in \u001b[0;36m<module>\u001b[0;34m()\u001b[0m\n\u001b[1;32m      2\u001b[0m \u001b[0;32mimport\u001b[0m \u001b[0mnumpy\u001b[0m \u001b[0;32mas\u001b[0m \u001b[0mnp\u001b[0m\u001b[0;34m\u001b[0m\u001b[0m\n\u001b[1;32m      3\u001b[0m \u001b[0;32mimport\u001b[0m \u001b[0mgc\u001b[0m\u001b[0;34m\u001b[0m\u001b[0m\n\u001b[0;32m----> 4\u001b[0;31m \u001b[0;32mimport\u001b[0m \u001b[0mload_data\u001b[0m \u001b[0;32mas\u001b[0m \u001b[0mld\u001b[0m\u001b[0;34m\u001b[0m\u001b[0m\n\u001b[0m",
      "\u001b[0;31mImportError\u001b[0m: No module named load_data"
     ]
    }
   ],
   "source": [
    "import os\n",
    "import numpy as np\n",
    "import gc\n",
    "import load_data as ld\n"
   ]
  },
  {
   "cell_type": "code",
   "execution_count": 130,
   "metadata": {},
   "outputs": [
    {
     "ename": "NameError",
     "evalue": "name 'ld' is not defined",
     "output_type": "error",
     "traceback": [
      "\u001b[0;31m---------------------------------------------------------------------------\u001b[0m",
      "\u001b[0;31mNameError\u001b[0m                                 Traceback (most recent call last)",
      "\u001b[0;32m<ipython-input-130-95a69944ccfb>\u001b[0m in \u001b[0;36m<module>\u001b[0;34m()\u001b[0m\n\u001b[1;32m      9\u001b[0m \u001b[0mmeta\u001b[0m \u001b[0;34m=\u001b[0m \u001b[0;34m[\u001b[0m\u001b[0;34m]\u001b[0m\u001b[0;34m\u001b[0m\u001b[0m\n\u001b[1;32m     10\u001b[0m \u001b[0;32mfor\u001b[0m \u001b[0msubject\u001b[0m \u001b[0;32min\u001b[0m \u001b[0msubjects\u001b[0m\u001b[0;34m:\u001b[0m\u001b[0;34m\u001b[0m\u001b[0m\n\u001b[0;32m---> 11\u001b[0;31m     \u001b[0minfo_files\u001b[0m\u001b[0;34m,\u001b[0m \u001b[0mtrial_data\u001b[0m\u001b[0;34m,\u001b[0m \u001b[0mmeta_files\u001b[0m \u001b[0;34m=\u001b[0m \u001b[0mld\u001b[0m\u001b[0;34m.\u001b[0m\u001b[0mget_raw_data\u001b[0m\u001b[0;34m(\u001b[0m\u001b[0msubject\u001b[0m\u001b[0;34m,\u001b[0m \u001b[0mlen\u001b[0m\u001b[0;34m(\u001b[0m\u001b[0mtrials_data\u001b[0m\u001b[0;34m)\u001b[0m\u001b[0;34m)\u001b[0m\u001b[0;34m\u001b[0m\u001b[0m\n\u001b[0m\u001b[1;32m     12\u001b[0m     \u001b[0mtrials_data\u001b[0m\u001b[0;34m.\u001b[0m\u001b[0mextend\u001b[0m\u001b[0;34m(\u001b[0m\u001b[0mtrial_data\u001b[0m\u001b[0;34m)\u001b[0m\u001b[0;34m\u001b[0m\u001b[0m\n\u001b[1;32m     13\u001b[0m     \u001b[0minfo\u001b[0m\u001b[0;34m.\u001b[0m\u001b[0mextend\u001b[0m\u001b[0;34m(\u001b[0m\u001b[0minfo_files\u001b[0m\u001b[0;34m)\u001b[0m\u001b[0;34m\u001b[0m\u001b[0m\n",
      "\u001b[0;31mNameError\u001b[0m: name 'ld' is not defined"
     ]
    }
   ],
   "source": [
    "subjects = [\"/Users/satrajitmaitra/fmri/Data/ExtractedData/Subject_04799/\",\n",
    "                \"/Users/satrajitmaitra/fmri/Data/ExtractedData/Subject_04820\",\n",
    "                \"/Users/satrajitmaitra/fmri/Data/ExtractedData/Subject_04847\",\n",
    "                \"/Users/satrajitmaitra/fmri/Data/ExtractedData/Subject_05680\",\n",
    "                \"/Users/satrajitmaitra/fmri/Data/ExtractedData/Subject-05710\"]\n",
    "\n",
    "trials_data = []\n",
    "info = []\n",
    "meta = []\n",
    "for subject in subjects:\n",
    "    info_files, trial_data, meta_files = ld.get_raw_data(subject, len(trials_data))\n",
    "    trials_data.extend(trial_data)\n",
    "    info.extend(info_files)\n",
    "    meta.extend(meta_files)\n",
    "    os.chdir(cwd)\n"
   ]
  },
  {
   "cell_type": "code",
   "execution_count": 71,
   "metadata": {},
   "outputs": [],
   "source": [
    "def load_data(data_dir):\n",
    "    print(\"Loading data for: \", data_dir.split('/')[2])\n",
    "\n",
    "    os.chdir(data_dir)\n",
    "    cwd = os.getcwd()\n",
    "\n",
    "    trials = []\n",
    "    info_files = []\n",
    "\n",
    "    for path, sub_dirs, files in os.walk(cwd):\n",
    "        for name in sub_dirs:\n",
    "            cwd = os.path.join(path, name)\n",
    "            trial_data = open(cwd + \"/data.csv\").read()\n",
    "            # get data by lines but drop last line as it is empty\n",
    "            trial_data = trial_data.split(\"\\n\")[:-1]\n",
    "            trial_data = np.array([i.split(\",\") for i in trial_data])\n",
    "            # trial_data.append(open(cwd + \"\\\\info.data\").read())\n",
    "            trials.append(trial_data)\n",
    "\n",
    "            info = {}\n",
    "            with open(cwd + \"/info.data\") as f:\n",
    "                for line in f:\n",
    "                    (key, val) = line.rstrip('\\n').split(':')\n",
    "                    info[key] = val\n",
    "\n",
    "            info['trial'] = len(trials) - 1\n",
    "            info_files.append(info)\n",
    "\n",
    "    print(\"Done!\")\n",
    "    return info_files, trials  # , meta"
   ]
  },
  {
   "cell_type": "code",
   "execution_count": 72,
   "metadata": {},
   "outputs": [],
   "source": [
    "def get_related_trials(info, trials):\n",
    "#     print(info)\n",
    "    # print('Inside GRT')\n",
    "    result = []\n",
    "    for item in info:\n",
    "        i = int(item['trial'])\n",
    "        result.append(trials[i])\n",
    "    # print(\"Done GRT!\")\n",
    "    return result\n"
   ]
  },
  {
   "cell_type": "code",
   "execution_count": 73,
   "metadata": {},
   "outputs": [],
   "source": [
    "cwd = os.getcwd()"
   ]
  },
  {
   "cell_type": "code",
   "execution_count": 74,
   "metadata": {},
   "outputs": [
    {
     "name": "stdout",
     "output_type": "stream",
     "text": [
      "('Loading data for: ', 'satrajitmaitra')\n",
      "Done!\n",
      "('Loading data for: ', 'satrajitmaitra')\n",
      "Done!\n",
      "('Loading data for: ', 'satrajitmaitra')\n",
      "Done!\n",
      "('Loading data for: ', 'satrajitmaitra')\n",
      "Done!\n",
      "('Loading data for: ', 'satrajitmaitra')\n",
      "Done!\n"
     ]
    }
   ],
   "source": [
    "subjects = [\"/Users/satrajitmaitra/fmri/Data/ExtractedData/Subject_04799/\",\n",
    "                \"/Users/satrajitmaitra/fmri/Data/ExtractedData/Subject_04820\",\n",
    "                \"/Users/satrajitmaitra/fmri/Data/ExtractedData/Subject_04847\",\n",
    "                \"/Users/satrajitmaitra/fmri/Data/ExtractedData/Subject_05680\",\n",
    "                \"/Users/satrajitmaitra/fmri/Data/ExtractedData/Subject-05710\"]\n",
    "\n",
    "trials_data = []\n",
    "info = []\n",
    "for subject in subjects:\n",
    "    info_files, trial_data = load_data(subject)\n",
    "    trials_data.extend(trial_data)\n",
    "    info.extend(info_files)\n",
    "    os.chdir(cwd)\n",
    "\n",
    "pic_info = [d for d in info if (d['firstStimulus'] == 'P' and int(d['cond']) > 1)]\n",
    "sen_info = [d for d in info if (d['firstStimulus'] == 'S' and int(d['cond']) > 1)]\n",
    "#     print(pic_info)\n",
    "pic_data = get_related_trials(pic_info, trials_data)\n",
    "sen_data = get_related_trials(sen_info, trials_data)"
   ]
  },
  {
   "cell_type": "code",
   "execution_count": 75,
   "metadata": {},
   "outputs": [],
   "source": [
    "trim_pic = []\n",
    "for item in pic_data:\n",
    "    trim_pic.append(np.concatenate((item[:][1:16], item[:][17:32])))"
   ]
  },
  {
   "cell_type": "code",
   "execution_count": 76,
   "metadata": {},
   "outputs": [],
   "source": [
    "trim_sen = []\n",
    "for item in sen_data:\n",
    "    trim_sen.append(np.concatenate((item[:][1:16], item[:][17:32])))"
   ]
  },
  {
   "cell_type": "code",
   "execution_count": 86,
   "metadata": {},
   "outputs": [],
   "source": [
    "final_trim_pic = (np.array(trim_pic)).reshape(100 * 30, 4949)\n",
    "final_trim_sen = (np.array(trim_sen)).reshape(100 * 30, 4949)"
   ]
  },
  {
   "cell_type": "code",
   "execution_count": 87,
   "metadata": {},
   "outputs": [
    {
     "data": {
      "text/plain": [
       "array([['-10.593797240342113', '0.8026951383106592',\n",
       "        '-1.4955773899098275', ..., '2.1126169844402165',\n",
       "        '6.986682070448923', '11.756857905334046'],\n",
       "       ['-1.5349219289358769', '-2.4042781361703063',\n",
       "        '-1.0175223961505446', ..., '4.365480446026905',\n",
       "        '10.328206230926016', '9.062457323978325'],\n",
       "       ['5.296764194669665', '-0.6524399242436287', '0.4032080549590386',\n",
       "        ..., '0.37057875115230465', '5.232179573225737',\n",
       "        '8.651411925672228'],\n",
       "       ...,\n",
       "       ['-9.970476396041672', '-1.6465127638486912',\n",
       "        '0.9572064835240788', ..., '6.293089122735588',\n",
       "        '16.108545167101333', '22.32632017411432'],\n",
       "       ['-1.340432445057977', '-3.9501829309961223',\n",
       "        '-0.24139729872833357', ..., '2.4981403213910967',\n",
       "        '8.4298042173011', '13.357054147311523'],\n",
       "       ['-0.03338605317975411', '1.7711846136756393',\n",
       "        '1.2223887733036283', ..., '1.1454772950443721',\n",
       "        '12.376107945484108', '21.08343618390667']], dtype='|S23')"
      ]
     },
     "execution_count": 87,
     "metadata": {},
     "output_type": "execute_result"
    }
   ],
   "source": [
    "final_trim_pic"
   ]
  },
  {
   "cell_type": "code",
   "execution_count": 92,
   "metadata": {},
   "outputs": [
    {
     "name": "stdout",
     "output_type": "stream",
     "text": [
      "(3000, 4949)\n"
     ]
    }
   ],
   "source": [
    "print(final_trim_pic.shape)"
   ]
  },
  {
   "cell_type": "code",
   "execution_count": 93,
   "metadata": {},
   "outputs": [],
   "source": [
    "mean_value = np.mean(final_trim_pic.astype(np.float))\n",
    "array2 = np.full((3000, 4949), mean_value)\n",
    "final_trim_pic = np.subtract(final_trim_pic.astype(np.float), array2)"
   ]
  },
  {
   "cell_type": "code",
   "execution_count": 94,
   "metadata": {},
   "outputs": [
    {
     "data": {
      "text/plain": [
       "0.23172304838522073"
      ]
     },
     "execution_count": 94,
     "metadata": {},
     "output_type": "execute_result"
    }
   ],
   "source": [
    "mean_value"
   ]
  },
  {
   "cell_type": "code",
   "execution_count": 95,
   "metadata": {},
   "outputs": [
    {
     "data": {
      "text/plain": [
       "array([[0.23172305, 0.23172305, 0.23172305, ..., 0.23172305, 0.23172305,\n",
       "        0.23172305],\n",
       "       [0.23172305, 0.23172305, 0.23172305, ..., 0.23172305, 0.23172305,\n",
       "        0.23172305],\n",
       "       [0.23172305, 0.23172305, 0.23172305, ..., 0.23172305, 0.23172305,\n",
       "        0.23172305],\n",
       "       ...,\n",
       "       [0.23172305, 0.23172305, 0.23172305, ..., 0.23172305, 0.23172305,\n",
       "        0.23172305],\n",
       "       [0.23172305, 0.23172305, 0.23172305, ..., 0.23172305, 0.23172305,\n",
       "        0.23172305],\n",
       "       [0.23172305, 0.23172305, 0.23172305, ..., 0.23172305, 0.23172305,\n",
       "        0.23172305]])"
      ]
     },
     "execution_count": 95,
     "metadata": {},
     "output_type": "execute_result"
    }
   ],
   "source": [
    "array2"
   ]
  },
  {
   "cell_type": "code",
   "execution_count": 96,
   "metadata": {},
   "outputs": [
    {
     "data": {
      "text/plain": [
       "array([[-10.82552029,   0.57097209,  -1.72730044, ...,   1.88089394,\n",
       "          6.75495902,  11.52513486],\n",
       "       [ -1.76664498,  -2.63600118,  -1.24924544, ...,   4.1337574 ,\n",
       "         10.09648318,   8.83073428],\n",
       "       [  5.06504115,  -0.88416297,   0.17148501, ...,   0.1388557 ,\n",
       "          5.00045652,   8.41968888],\n",
       "       ...,\n",
       "       [-10.20219944,  -1.87823581,   0.72548344, ...,   6.06136607,\n",
       "         15.87682212,  22.09459713],\n",
       "       [ -1.57215549,  -4.18190598,  -0.47312035, ...,   2.26641727,\n",
       "          8.19808117,  13.1253311 ],\n",
       "       [ -0.2651091 ,   1.53946157,   0.99066572, ...,   0.91375425,\n",
       "         12.1443849 ,  20.85171314]])"
      ]
     },
     "execution_count": 96,
     "metadata": {},
     "output_type": "execute_result"
    }
   ],
   "source": [
    "final_trim_pic"
   ]
  },
  {
   "cell_type": "code",
   "execution_count": 97,
   "metadata": {},
   "outputs": [],
   "source": [
    "sigma = np.cov(final_trim_pic.T)"
   ]
  },
  {
   "cell_type": "code",
   "execution_count": 99,
   "metadata": {},
   "outputs": [
    {
     "data": {
      "text/plain": [
       "(4949, 4949)"
      ]
     },
     "execution_count": 99,
     "metadata": {},
     "output_type": "execute_result"
    }
   ],
   "source": [
    "sigma.shape"
   ]
  },
  {
   "cell_type": "code",
   "execution_count": 100,
   "metadata": {},
   "outputs": [],
   "source": [
    "eigVals, eigVec = np.linalg.eig(sigma)"
   ]
  },
  {
   "cell_type": "code",
   "execution_count": 104,
   "metadata": {},
   "outputs": [
    {
     "data": {
      "text/plain": [
       "array([ 1.42932170e+03+0.00000000e+00j,  1.08834946e+03+0.00000000e+00j,\n",
       "        9.04212999e+02+0.00000000e+00j, ...,\n",
       "       -1.82385547e-17-4.62067658e-17j,  1.53637495e-16+1.13327769e-16j,\n",
       "        1.53637495e-16-1.13327769e-16j])"
      ]
     },
     "execution_count": 104,
     "metadata": {},
     "output_type": "execute_result"
    }
   ],
   "source": [
    "eigVals"
   ]
  },
  {
   "cell_type": "code",
   "execution_count": 125,
   "metadata": {},
   "outputs": [
    {
     "data": {
      "text/plain": [
       "array([[ 3.37438710e-02+0.j        , -5.79574350e-02+0.j        ,\n",
       "        -5.38386478e-03+0.j        , ...,  5.94696105e-03-0.00116148j,\n",
       "         5.94696105e-03+0.00116148j, -3.56498850e-05+0.j        ],\n",
       "       [ 1.68409806e-02+0.j        ,  1.63977587e-02+0.j        ,\n",
       "         2.73323854e-02+0.j        , ...,  1.04548798e-02-0.00410308j,\n",
       "         1.04548798e-02+0.00410308j, -1.16775333e-02+0.j        ],\n",
       "       [ 1.17172812e-02+0.j        ,  1.69861747e-02+0.j        ,\n",
       "        -1.32839223e-03+0.j        , ...,  1.88838013e-02-0.00018294j,\n",
       "         1.88838013e-02+0.00018294j,  1.20650016e-03+0.j        ],\n",
       "       ...,\n",
       "       [ 3.48708207e-02+0.j        , -1.24383689e-02+0.j        ,\n",
       "         9.53842949e-03+0.j        , ..., -1.85034902e-02-0.00165119j,\n",
       "        -1.85034902e-02+0.00165119j, -1.60350730e-02+0.j        ],\n",
       "       [ 1.05686034e-01+0.j        ,  2.59832527e-03+0.j        ,\n",
       "         3.25159443e-02+0.j        , ...,  2.29508231e-02-0.03753634j,\n",
       "         2.29508231e-02+0.03753634j,  4.46744684e-02+0.j        ],\n",
       "       [ 1.26512385e-01+0.j        ,  9.02176199e-03+0.j        ,\n",
       "         1.75562178e-02+0.j        , ...,  2.68334548e-02+0.02532191j,\n",
       "         2.68334548e-02-0.02532191j, -1.78774074e-02+0.j        ]])"
      ]
     },
     "execution_count": 125,
     "metadata": {},
     "output_type": "execute_result"
    }
   ],
   "source": [
    "eigVec"
   ]
  },
  {
   "cell_type": "code",
   "execution_count": 110,
   "metadata": {},
   "outputs": [],
   "source": [
    "sorted_index = eigVals.argsort()[::-1]"
   ]
  },
  {
   "cell_type": "code",
   "execution_count": 126,
   "metadata": {},
   "outputs": [],
   "source": [
    "eigVals = eigVals[sorted_index]\n",
    "eigVec = eigVec[:,sorted_index]"
   ]
  },
  {
   "cell_type": "code",
   "execution_count": 127,
   "metadata": {},
   "outputs": [
    {
     "data": {
      "text/plain": [
       "array([1.42932170e+03+0.00000000e+00j, 1.08834946e+03+0.00000000e+00j,\n",
       "       9.04212999e+02+0.00000000e+00j, ...,\n",
       "       6.17785520e-14+2.77390640e-15j, 6.17785520e-14-2.77390640e-15j,\n",
       "       6.07478496e-14+6.43517793e-14j])"
      ]
     },
     "execution_count": 127,
     "metadata": {},
     "output_type": "execute_result"
    }
   ],
   "source": [
    "eigVals"
   ]
  },
  {
   "cell_type": "code",
   "execution_count": 129,
   "metadata": {},
   "outputs": [
    {
     "data": {
      "text/plain": [
       "(4949, 4949)"
      ]
     },
     "execution_count": 129,
     "metadata": {},
     "output_type": "execute_result"
    }
   ],
   "source": [
    "eigVec.shape"
   ]
  },
  {
   "cell_type": "code",
   "execution_count": null,
   "metadata": {},
   "outputs": [],
   "source": []
  }
 ],
 "metadata": {
  "kernelspec": {
   "display_name": "Python 2",
   "language": "python",
   "name": "python2"
  },
  "language_info": {
   "codemirror_mode": {
    "name": "ipython",
    "version": 2
   },
   "file_extension": ".py",
   "mimetype": "text/x-python",
   "name": "python",
   "nbconvert_exporter": "python",
   "pygments_lexer": "ipython2",
   "version": "2.7.15"
  }
 },
 "nbformat": 4,
 "nbformat_minor": 2
}
