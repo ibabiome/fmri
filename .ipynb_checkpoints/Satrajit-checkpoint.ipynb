{
 "cells": [
  {
   "cell_type": "code",
   "execution_count": 3,
   "metadata": {},
   "outputs": [],
   "source": [
    "import os\n",
    "from scipy.io import loadmat\n",
    "import dataExtract_latest"
   ]
  },
  {
   "cell_type": "code",
   "execution_count": 2,
   "metadata": {},
   "outputs": [],
   "source": [
    "mat04799  = loadmat('/Users/vinitsheth/SmlFinalProject/Data/data-starplus-04799-v7.mat')\n",
    "mat04820  = loadmat('/Users/vinitsheth/SmlFinalProject/Data/data-starplus-04820-v7.mat')\n",
    "mat04847  = loadmat('/Users/vinitsheth/SmlFinalProject/Data/data-starplus-04847-v7.mat')\n",
    "mat05675  = loadmat('/Users/vinitsheth/SmlFinalProject/Data/data-starplus-05675-v7.mat')\n",
    "mat05680  = loadmat('/Users/vinitsheth/SmlFinalProject/Data/data-starplus-05680-v7.mat')\n",
    "mat05710  = loadmat('/Users/vinitsheth/SmlFinalProject/Data/data-starplus-05710-v7.mat')"
   ]
  },
  {
   "cell_type": "code",
   "execution_count": null,
   "metadata": {},
   "outputs": [],
   "source": []
  }
 ],
 "metadata": {
  "kernelspec": {
   "display_name": "Python 2",
   "language": "python",
   "name": "python2"
  },
  "language_info": {
   "codemirror_mode": {
    "name": "ipython",
    "version": 2
   },
   "file_extension": ".py",
   "mimetype": "text/x-python",
   "name": "python",
   "nbconvert_exporter": "python",
   "pygments_lexer": "ipython2",
   "version": "2.7.15"
  }
 },
 "nbformat": 4,
 "nbformat_minor": 2
}
