{
 "cells": [
  {
   "cell_type": "code",
   "execution_count": 3,
   "metadata": {},
   "outputs": [],
   "source": [
    "import os\n",
    "from scipy.io import loadmat\n",
    "import dataExtract_latest"
   ]
  },
  {
   "cell_type": "code",
   "execution_count": 4,
   "metadata": {},
   "outputs": [],
   "source": [
    "mat04799  = loadmat('/Users/satrajitmaitra/Downloads/Data/data-starplus-04799-v7.mat')\n",
    "mat04820  = loadmat('/Users/satrajitmaitra/Downloads/Data/data-starplus-04820-v7.mat')\n",
    "mat04847  = loadmat('/Users/satrajitmaitra/Downloads/Data/data-starplus-04847-v7.mat')\n",
    "mat05675  = loadmat('/Users/satrajitmaitra/Downloads/Data/data-starplus-05675-v7.mat')\n",
    "mat05680  = loadmat('/Users/satrajitmaitra/Downloads/Data/data-starplus-05680-v7.mat')\n",
    "mat05710  = loadmat('/Users/satrajitmaitra/Downloads/Data/data-starplus-05710-v7.mat')"
   ]
  },
  {
   "cell_type": "code",
   "execution_count": 7,
   "metadata": {},
   "outputs": [],
   "source": [
    "mata04799 = dataExtract_latest.getMeta(mat04799)\n",
    "mata04820 = dataExtract_latest.getMeta(mat04820)\n",
    "mata04847 = dataExtract_latest.getMeta(mat04847)\n",
    "mata05675 = dataExtract_latest.getMeta(mat05675)\n",
    "mata05680 = dataExtract_latest.getMeta(mat05680)\n",
    "mata05710 = dataExtract_latest.getMeta(mat05710)"
   ]
  },
  {
   "cell_type": "code",
   "execution_count": 8,
   "metadata": {},
   "outputs": [],
   "source": [
    "info04799 = []\n",
    "sentence04799 = []\n",
    "picture04799 = []\n",
    "rawData04799 = mat04799['data']\n",
    "for i in range(mata04799['ntrials']):\n",
    "    infoOfGivenTrial = dataExtract_latest.getInfoFromList(mat04799,i)\n",
    "    info04799.append(infoOfGivenTrial)\n",
    "    if infoOfGivenTrial['cond'] == 2 or infoOfGivenTrial['cond'] == 3:\n",
    "        if infoOfGivenTrial['firstStimulus'] == 'P':\n",
    "            for j in range(16):\n",
    "                picture04799.append(rawData04799[i][0][j])\n",
    "            for j in range(16,32):\n",
    "                sentence04799.append(rawData04799[i][0][j])\n",
    "        elif infoOfGivenTrial['firstStimulus'] == 'S':\n",
    "            for j in range(16):\n",
    "                sentence04799.append(rawData04799[i][0][j])\n",
    "            for j in range(16,32):\n",
    "                picture04799.append(rawData04799[i][0][j])"
   ]
  },
  {
   "cell_type": "code",
   "execution_count": 11,
   "metadata": {},
   "outputs": [],
   "source": [
    "from sklearn.model_selection import train_test_split\n",
    "from sklearn import svm\n",
    "from sklearn import metrics"
   ]
  },
  {
   "cell_type": "code",
   "execution_count": 12,
   "metadata": {},
   "outputs": [],
   "source": [
    "data04799 = sentence04799+picture04799"
   ]
  },
  {
   "cell_type": "code",
   "execution_count": 13,
   "metadata": {},
   "outputs": [],
   "source": [
    "labels04799 = [1]*len(sentence04799) + [0]*len(picture04799)"
   ]
  },
  {
   "cell_type": "code",
   "execution_count": 14,
   "metadata": {},
   "outputs": [],
   "source": [
    "x_train04799, x_test04799 , y_train04799, y_test04799 = train_test_split(data04799,labels04799,test_size = 0.2)"
   ]
  },
  {
   "cell_type": "code",
   "execution_count": 15,
   "metadata": {},
   "outputs": [
    {
     "name": "stderr",
     "output_type": "stream",
     "text": [
      "/anaconda2/lib/python2.7/site-packages/sklearn/ensemble/weight_boosting.py:29: DeprecationWarning: numpy.core.umath_tests is an internal NumPy module and should not be imported. It will be removed in a future NumPy release.\n",
      "  from numpy.core.umath_tests import inner1d\n"
     ]
    }
   ],
   "source": [
    "from sklearn.ensemble import RandomForestRegressor\n",
    "rf = RandomForestRegressor(n_estimators = 1000, random_state = 42)"
   ]
  },
  {
   "cell_type": "code",
   "execution_count": null,
   "metadata": {},
   "outputs": [],
   "source": [
    "rf.fit(x_train04799, y_train04799)"
   ]
  },
  {
   "cell_type": "code",
   "execution_count": null,
   "metadata": {},
   "outputs": [],
   "source": [
    "predictions = rf.predict(x_test04799)"
   ]
  },
  {
   "cell_type": "code",
   "execution_count": null,
   "metadata": {},
   "outputs": [],
   "source": []
  }
 ],
 "metadata": {
  "kernelspec": {
   "display_name": "Python 2",
   "language": "python",
   "name": "python2"
  },
  "language_info": {
   "codemirror_mode": {
    "name": "ipython",
    "version": 2
   },
   "file_extension": ".py",
   "mimetype": "text/x-python",
   "name": "python",
   "nbconvert_exporter": "python",
   "pygments_lexer": "ipython2",
   "version": "2.7.15"
  }
 },
 "nbformat": 4,
 "nbformat_minor": 2
}
