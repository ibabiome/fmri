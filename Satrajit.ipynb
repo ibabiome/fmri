{
 "cells": [
  {
   "cell_type": "code",
   "execution_count": 10,
   "metadata": {},
   "outputs": [],
   "source": [
    "import os\n",
    "from scipy.io import loadmat\n",
    "import dataExtract_latest\n",
    "import matplotlib.pyplot as plt\n",
    "import numpy as np"
   ]
  },
  {
   "cell_type": "code",
   "execution_count": 4,
   "metadata": {},
   "outputs": [],
   "source": [
    "mat04799  = loadmat('/Users/satrajitmaitra/Downloads/Data/data-starplus-04799-v7.mat')\n",
    "mat04820  = loadmat('/Users/satrajitmaitra/Downloads/Data/data-starplus-04820-v7.mat')\n",
    "mat04847  = loadmat('/Users/satrajitmaitra/Downloads/Data/data-starplus-04847-v7.mat')\n",
    "mat05675  = loadmat('/Users/satrajitmaitra/Downloads/Data/data-starplus-05675-v7.mat')\n",
    "mat05680  = loadmat('/Users/satrajitmaitra/Downloads/Data/data-starplus-05680-v7.mat')\n",
    "mat05710  = loadmat('/Users/satrajitmaitra/Downloads/Data/data-starplus-05710-v7.mat')"
   ]
  },
  {
   "cell_type": "code",
   "execution_count": 7,
   "metadata": {},
   "outputs": [],
   "source": [
    "mata04799 = dataExtract_latest.getMeta(mat04799)\n",
    "mata04820 = dataExtract_latest.getMeta(mat04820)\n",
    "mata04847 = dataExtract_latest.getMeta(mat04847)\n",
    "mata05675 = dataExtract_latest.getMeta(mat05675)\n",
    "mata05680 = dataExtract_latest.getMeta(mat05680)\n",
    "mata05710 = dataExtract_latest.getMeta(mat05710)"
   ]
  },
  {
   "cell_type": "code",
   "execution_count": 52,
   "metadata": {},
   "outputs": [],
   "source": [
    "info04799 = []\n",
    "sentence04799 = []\n",
    "picture04799 = []\n",
    "rawData04799 = mat04799['data']\n",
    "for i in range(mata04799['ntrials']):\n",
    "    infoOfGivenTrial = dataExtract_latest.getInfoFromList(mat04799,i)\n",
    "    info04799.append(infoOfGivenTrial)\n",
    "    if infoOfGivenTrial['cond'] == 2 or infoOfGivenTrial['cond'] == 3:\n",
    "        if infoOfGivenTrial['firstStimulus'] == 'P':\n",
    "            for j in range(16):\n",
    "                picture04799.append(rawData04799[i][0][j])\n",
    "            for j in range(16,32):\n",
    "                sentence04799.append(rawData04799[i][0][j])\n",
    "        elif infoOfGivenTrial['firstStimulus'] == 'S':\n",
    "            for j in range(16):\n",
    "                sentence04799.append(rawData04799[i][0][j])\n",
    "            for j in range(16,32):\n",
    "                picture04799.append(rawData04799[i][0][j])"
   ]
  },
  {
   "cell_type": "code",
   "execution_count": 53,
   "metadata": {},
   "outputs": [],
   "source": [
    "from sklearn.model_selection import train_test_split\n",
    "from sklearn import svm\n",
    "from sklearn import metrics\n",
    "from sklearn.ensemble import RandomForestRegressor"
   ]
  },
  {
   "cell_type": "code",
   "execution_count": 54,
   "metadata": {},
   "outputs": [],
   "source": [
    "data04799 = sentence04799+picture04799"
   ]
  },
  {
   "cell_type": "code",
   "execution_count": 55,
   "metadata": {},
   "outputs": [],
   "source": [
    "labels04799 = [1]*len(sentence04799) + [0]*len(picture04799)"
   ]
  },
  {
   "cell_type": "code",
   "execution_count": 56,
   "metadata": {},
   "outputs": [],
   "source": [
    "accuracy04799 = []\n",
    "for i in range(5):\n",
    "    x_train04799, x_test04799 , y_train04799, y_test04799 = train_test_split(data04799,labels04799,test_size = 0.2)\n",
    "    rf = RandomForestRegressor(n_estimators = 1000, random_state = 42)\n",
    "    rf.fit(x_train04799, y_train04799)\n",
    "    predictions = list(rf.predict(x_test04799))\n",
    "    predicted_classes = []\n",
    "    for i in range(len(predictions)):\n",
    "        if predictions[i] > 0.5:\n",
    "            predicted_classes.append(1)\n",
    "        else:\n",
    "            predicted_classes.append(0)\n",
    "    accuracy04799.append(metrics.accuracy_score(y_test04799, predicted_classes))"
   ]
  },
  {
   "cell_type": "markdown",
   "metadata": {},
   "source": [
    "Accuracy for the first subject. Cross validation done."
   ]
  },
  {
   "cell_type": "code",
   "execution_count": 58,
   "metadata": {},
   "outputs": [
    {
     "data": {
      "text/plain": [
       "[0.69140625, 0.6953125, 0.640625, 0.66796875, 0.6640625]"
      ]
     },
     "execution_count": 58,
     "metadata": {},
     "output_type": "execute_result"
    }
   ],
   "source": [
    "accuracy04799"
   ]
  },
  {
   "cell_type": "code",
   "execution_count": 61,
   "metadata": {},
   "outputs": [],
   "source": [
    "info04820 = []\n",
    "sentence04820 = []\n",
    "picture04820 = []\n",
    "rawData04820 = mat04820['data']\n",
    "for i in range(mata04820['ntrials']):\n",
    "    infoOfGivenTrial = dataExtract_latest.getInfoFromList(mat04820,i)\n",
    "    info04820.append(infoOfGivenTrial)\n",
    "    if infoOfGivenTrial['cond'] == 2 or infoOfGivenTrial['cond'] == 3:\n",
    "        if infoOfGivenTrial['firstStimulus'] == 'P':\n",
    "            for j in range(16):\n",
    "                picture04820.append(rawData04820[i][0][j])\n",
    "            for j in range(16,32):\n",
    "                sentence04820.append(rawData04820[i][0][j])\n",
    "        elif infoOfGivenTrial['firstStimulus'] == 'S':\n",
    "            for j in range(16):\n",
    "                sentence04820.append(rawData04820[i][0][j])\n",
    "            for j in range(16,32):\n",
    "                picture04820.append(rawData04820[i][0][j])"
   ]
  },
  {
   "cell_type": "code",
   "execution_count": 62,
   "metadata": {},
   "outputs": [],
   "source": [
    "data04820 = sentence04820+picture04820\n",
    "labels04820 = [1]*len(sentence04820) + [0]*len(picture04820)"
   ]
  },
  {
   "cell_type": "code",
   "execution_count": 63,
   "metadata": {},
   "outputs": [],
   "source": [
    "accuracy04820 = []\n",
    "for i in range(5):\n",
    "    x_train04820, x_test04820 , y_train04820, y_test04820 = train_test_split(data04820,labels04820,test_size = 0.2)\n",
    "    rf = RandomForestRegressor(n_estimators = 1000, random_state = 42)\n",
    "    rf.fit(x_train04820, y_train04820)\n",
    "    predictions = list(rf.predict(x_test04820))\n",
    "    predicted_classes = []\n",
    "    for i in range(len(predictions)):\n",
    "        if predictions[i] > 0.5:\n",
    "            predicted_classes.append(1)\n",
    "        else:\n",
    "            predicted_classes.append(0)\n",
    "    accuracy04820.append(metrics.accuracy_score(y_test04820, predicted_classes))"
   ]
  },
  {
   "cell_type": "code",
   "execution_count": 65,
   "metadata": {},
   "outputs": [
    {
     "data": {
      "text/plain": [
       "[0.7421875, 0.6796875, 0.6640625, 0.640625, 0.7109375]"
      ]
     },
     "execution_count": 65,
     "metadata": {},
     "output_type": "execute_result"
    }
   ],
   "source": [
    "accuracy04820"
   ]
  },
  {
   "cell_type": "code",
   "execution_count": 66,
   "metadata": {},
   "outputs": [],
   "source": [
    "info04847 = []\n",
    "sentence04847 = []\n",
    "picture04847 = []\n",
    "rawData04847 = mat04847['data']\n",
    "for i in range(mata04847['ntrials']):\n",
    "    infoOfGivenTrial = dataExtract_latest.getInfoFromList(mat04847,i)\n",
    "    info04847.append(infoOfGivenTrial)\n",
    "    if infoOfGivenTrial['cond'] == 2 or infoOfGivenTrial['cond'] == 3:\n",
    "        if infoOfGivenTrial['firstStimulus'] == 'P':\n",
    "            for j in range(16):\n",
    "                picture04847.append(rawData04847[i][0][j])\n",
    "            for j in range(16,32):\n",
    "                sentence04847.append(rawData04847[i][0][j])\n",
    "        elif infoOfGivenTrial['firstStimulus'] == 'S':\n",
    "            for j in range(16):\n",
    "                sentence04847.append(rawData04847[i][0][j])\n",
    "            for j in range(16,32):\n",
    "                picture04847.append(rawData04847[i][0][j])\n",
    "\n",
    "data04847 = sentence04847+picture04847\n",
    "labels04847 = [1]*len(sentence04847) + [0]*len(picture04847)\n",
    "\n",
    "accuracy04847 = []\n",
    "for i in range(5):\n",
    "    x_train04847, x_test04847 , y_train04847, y_test04847 = train_test_split(data04847,labels04847,test_size = 0.2)\n",
    "    rf = RandomForestRegressor(n_estimators = 1000, random_state = 42)\n",
    "    rf.fit(x_train04847, y_train04847)\n",
    "    predictions = list(rf.predict(x_test04847))\n",
    "    predicted_classes = []\n",
    "    for i in range(len(predictions)):\n",
    "        if predictions[i] > 0.5:\n",
    "            predicted_classes.append(1)\n",
    "        else:\n",
    "            predicted_classes.append(0)\n",
    "    accuracy04847.append(metrics.accuracy_score(y_test04847, predicted_classes))"
   ]
  },
  {
   "cell_type": "code",
   "execution_count": 68,
   "metadata": {},
   "outputs": [
    {
     "data": {
      "text/plain": [
       "[0.8046875, 0.7578125, 0.77734375, 0.78515625, 0.76171875]"
      ]
     },
     "execution_count": 68,
     "metadata": {},
     "output_type": "execute_result"
    }
   ],
   "source": [
    "accuracy04847"
   ]
  },
  {
   "cell_type": "code",
   "execution_count": 69,
   "metadata": {},
   "outputs": [],
   "source": [
    "info05675 = []\n",
    "sentence05675 = []\n",
    "picture05675 = []\n",
    "rawData05675 = mat05675['data']\n",
    "for i in range(mata05675['ntrials']):\n",
    "    infoOfGivenTrial = dataExtract_latest.getInfoFromList(mat05675,i)\n",
    "    info05675.append(infoOfGivenTrial)\n",
    "    if infoOfGivenTrial['cond'] == 2 or infoOfGivenTrial['cond'] == 3:\n",
    "        if infoOfGivenTrial['firstStimulus'] == 'P':\n",
    "            for j in range(16):\n",
    "                picture05675.append(rawData05675[i][0][j])\n",
    "            for j in range(16,32):\n",
    "                sentence05675.append(rawData05675[i][0][j])\n",
    "        elif infoOfGivenTrial['firstStimulus'] == 'S':\n",
    "            for j in range(16):\n",
    "                sentence05675.append(rawData05675[i][0][j])\n",
    "            for j in range(16,32):\n",
    "                picture05675.append(rawData05675[i][0][j])\n",
    "\n",
    "data05675 = sentence05675+picture05675\n",
    "labels05675 = [1]*len(sentence05675) + [0]*len(picture05675)\n",
    "\n",
    "accuracy05675 = []\n",
    "for i in range(5):\n",
    "    x_train05675, x_test05675 , y_train05675, y_test05675 = train_test_split(data05675,labels05675,test_size = 0.2)\n",
    "    rf = RandomForestRegressor(n_estimators = 1000, random_state = 42)\n",
    "    rf.fit(x_train05675, y_train05675)\n",
    "    predictions = list(rf.predict(x_test05675))\n",
    "    predicted_classes = []\n",
    "    for i in range(len(predictions)):\n",
    "        if predictions[i] > 0.5:\n",
    "            predicted_classes.append(1)\n",
    "        else:\n",
    "            predicted_classes.append(0)\n",
    "    accuracy05675.append(metrics.accuracy_score(y_test05675, predicted_classes))"
   ]
  },
  {
   "cell_type": "code",
   "execution_count": 70,
   "metadata": {},
   "outputs": [
    {
     "data": {
      "text/plain": [
       "[0.72265625, 0.69921875, 0.69140625, 0.67578125, 0.63671875]"
      ]
     },
     "execution_count": 70,
     "metadata": {},
     "output_type": "execute_result"
    }
   ],
   "source": [
    "accuracy05675"
   ]
  },
  {
   "cell_type": "code",
   "execution_count": 1,
   "metadata": {},
   "outputs": [],
   "source": [
    "accuracy04799 = [0.69140625, 0.6953125, 0.640625, 0.66796875, 0.6640625]\n",
    "accuracy04820 = [0.7421875, 0.6796875, 0.6640625, 0.640625, 0.7109375]\n",
    "accuracy04847 = [0.8046875, 0.7578125, 0.77734375, 0.78515625, 0.76171875]\n",
    "accuracy05675 = [0.72265625, 0.69921875, 0.69140625, 0.67578125, 0.63671875]\n",
    "accuracy05680 = [0.6640625, 0.68359375, 0.72265625, 0.70703125, 0.69140625]\n",
    "accuracy05710 = [0.73828125, 0.7109375, 0.73828125, 0.7421875, 0.71484375]"
   ]
  },
  {
   "cell_type": "code",
   "execution_count": 3,
   "metadata": {},
   "outputs": [
    {
     "data": {
      "image/png": "[encoded data removed]",
      "text/plain": [
       "<Figure size 432x288 with 1 Axes>"
      ]
     },
     "metadata": {
      "needs_background": "light"
     },
     "output_type": "display_data"
    }
   ],
   "source": [
    "i_list = [1, 2, 3, 4, 5]\n",
    "plt.plot(i_list, accuracy04799, 'r')\n",
    "plt.show()"
   ]
  },
  {
   "cell_type": "code",
   "execution_count": 4,
   "metadata": {
    "scrolled": true
   },
   "outputs": [
    {
     "data": {
      "image/png": "[encoded data removed]",
      "text/plain": [
       "<Figure size 432x288 with 1 Axes>"
      ]
     },
     "metadata": {
      "needs_background": "light"
     },
     "output_type": "display_data"
    }
   ],
   "source": [
    "plt.plot(i_list, accuracy04820, 'r')\n",
    "plt.show()"
   ]
  },
  {
   "cell_type": "code",
   "execution_count": 5,
   "metadata": {},
   "outputs": [
    {
     "data": {
      "image/png": "[encoded data removed]",
      "text/plain": [
       "<Figure size 432x288 with 1 Axes>"
      ]
     },
     "metadata": {
      "needs_background": "light"
     },
     "output_type": "display_data"
    }
   ],
   "source": [
    "plt.plot(i_list, accuracy04847, 'r')\n",
    "plt.show()"
   ]
  },
  {
   "cell_type": "code",
   "execution_count": 6,
   "metadata": {},
   "outputs": [
    {
     "data": {
      "image/png": "[encoded data removed]",
      "text/plain": [
       "<Figure size 432x288 with 1 Axes>"
      ]
     },
     "metadata": {
      "needs_background": "light"
     },
     "output_type": "display_data"
    }
   ],
   "source": [
    "plt.plot(i_list, accuracy05675, 'r')\n",
    "plt.show()"
   ]
  },
  {
   "cell_type": "code",
   "execution_count": 19,
   "metadata": {},
   "outputs": [
    {
     "data": {
      "image/png": "[encoded data removed]",
      "text/plain": [
       "<Figure size 432x288 with 1 Axes>"
      ]
     },
     "metadata": {
      "needs_background": "light"
     },
     "output_type": "display_data"
    }
   ],
   "source": [
    "plt.plot(i_list, accuracy05680, 'r')\n",
    "plt.show()"
   ]
  },
  {
   "cell_type": "code",
   "execution_count": 20,
   "metadata": {},
   "outputs": [
    {
     "data": {
      "image/png": "[encoded data removed]",
      "text/plain": [
       "<Figure size 432x288 with 1 Axes>"
      ]
     },
     "metadata": {
      "needs_background": "light"
     },
     "output_type": "display_data"
    }
   ],
   "source": [
    "plt.plot(i_list, accuracy05710, 'r')\n",
    "plt.show()"
   ]
  },
  {
   "cell_type": "code",
   "execution_count": 11,
   "metadata": {},
   "outputs": [
    {
     "data": {
      "text/plain": [
       "0.671875"
      ]
     },
     "execution_count": 11,
     "metadata": {},
     "output_type": "execute_result"
    }
   ],
   "source": [
    "np.mean(np.array(accuracy04799))"
   ]
  },
  {
   "cell_type": "code",
   "execution_count": 12,
   "metadata": {},
   "outputs": [
    {
     "data": {
      "text/plain": [
       "0.6875"
      ]
     },
     "execution_count": 12,
     "metadata": {},
     "output_type": "execute_result"
    }
   ],
   "source": [
    "np.mean(np.array(accuracy04820))"
   ]
  },
  {
   "cell_type": "code",
   "execution_count": 13,
   "metadata": {},
   "outputs": [
    {
     "data": {
      "text/plain": [
       "0.77734375"
      ]
     },
     "execution_count": 13,
     "metadata": {},
     "output_type": "execute_result"
    }
   ],
   "source": [
    "np.mean(np.array(accuracy04847))"
   ]
  },
  {
   "cell_type": "code",
   "execution_count": 14,
   "metadata": {},
   "outputs": [
    {
     "data": {
      "text/plain": [
       "0.68515625"
      ]
     },
     "execution_count": 14,
     "metadata": {},
     "output_type": "execute_result"
    }
   ],
   "source": [
    "np.mean(np.array(accuracy05675))"
   ]
  },
  {
   "cell_type": "code",
   "execution_count": 15,
   "metadata": {},
   "outputs": [
    {
     "data": {
      "text/plain": [
       "0.69375"
      ]
     },
     "execution_count": 15,
     "metadata": {},
     "output_type": "execute_result"
    }
   ],
   "source": [
    "np.mean(np.array(accuracy05680))"
   ]
  },
  {
   "cell_type": "code",
   "execution_count": 16,
   "metadata": {},
   "outputs": [
    {
     "data": {
      "text/plain": [
       "0.72890625"
      ]
     },
     "execution_count": 16,
     "metadata": {},
     "output_type": "execute_result"
    }
   ],
   "source": [
    "np.mean(np.array(accuracy05710))"
   ]
  },
  {
   "cell_type": "code",
   "execution_count": null,
   "metadata": {},
   "outputs": [],
   "source": []
  }
 ],
 "metadata": {
  "kernelspec": {
   "display_name": "Python 2",
   "language": "python",
   "name": "python2"
  },
  "language_info": {
   "codemirror_mode": {
    "name": "ipython",
    "version": 2
   },
   "file_extension": ".py",
   "mimetype": "text/x-python",
   "name": "python",
   "nbconvert_exporter": "python",
   "pygments_lexer": "ipython2",
   "version": "2.7.15"
  }
 },
 "nbformat": 4,
 "nbformat_minor": 2
}
