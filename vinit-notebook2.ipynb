{
 "cells": [
  {
   "cell_type": "code",
   "execution_count": 1,
   "metadata": {
    "collapsed": true
   },
   "outputs": [],
   "source": [
    "import os\n",
    "from scipy.io import loadmat\n",
    "import dataExtract_latest\n",
    "from sklearn.model_selection import train_test_split\n",
    "from sklearn import svm\n",
    "from sklearn import metrics\n",
    "import numpy as np\n",
    "import matplotlib.pyplot as plt\n",
    "import pandas as pd"
   ]
  },
  {
   "cell_type": "code",
   "execution_count": 2,
   "metadata": {
    "collapsed": true
   },
   "outputs": [],
   "source": [
    "subjects = [['04799'],['04820'],['04847'],['05675'],['05680'],['05710']]"
   ]
  },
  {
   "cell_type": "markdown",
   "metadata": {},
   "source": [
    "Load mat files of subjects using lodmat fucntion of scipy"
   ]
  },
  {
   "cell_type": "code",
   "execution_count": 3,
   "metadata": {
    "collapsed": true
   },
   "outputs": [],
   "source": [
    "mat04799  = loadmat('/Users/vinitsheth/SmlFinalProject/Data/data-starplus-04799-v7.mat')\n",
    "mat04820  = loadmat('/Users/vinitsheth/SmlFinalProject/Data/data-starplus-04820-v7.mat')\n",
    "mat04847  = loadmat('/Users/vinitsheth/SmlFinalProject/Data/data-starplus-04847-v7.mat')\n",
    "mat05675  = loadmat('/Users/vinitsheth/SmlFinalProject/Data/data-starplus-05675-v7.mat')\n",
    "mat05680  = loadmat('/Users/vinitsheth/SmlFinalProject/Data/data-starplus-05680-v7.mat')\n",
    "mat05710  = loadmat('/Users/vinitsheth/SmlFinalProject/Data/data-starplus-05710-v7.mat')"
   ]
  },
  {
   "cell_type": "code",
   "execution_count": 4,
   "metadata": {
    "collapsed": true
   },
   "outputs": [],
   "source": [
    "mata04799 = dataExtract_latest.getMeta(mat04799)\n",
    "mata04820 = dataExtract_latest.getMeta(mat04820)\n",
    "mata04847 = dataExtract_latest.getMeta(mat04847)\n",
    "mata05675 = dataExtract_latest.getMeta(mat05675)\n",
    "mata05680 = dataExtract_latest.getMeta(mat05680)\n",
    "mata05710 = dataExtract_latest.getMeta(mat05710)"
   ]
  },
  {
   "cell_type": "code",
   "execution_count": 5,
   "metadata": {
    "collapsed": true
   },
   "outputs": [],
   "source": [
    "info04799 = []\n",
    "sentence04799 = []\n",
    "picture04799 = []\n",
    "rawData04799 = mat04799['data']\n",
    "for i in range(mata04799['ntrials']):\n",
    "    infoOfGivenTrial = dataExtract_latest.getInfoFromList(mat04799,i)\n",
    "    info04799.append(infoOfGivenTrial)\n",
    "    if infoOfGivenTrial['cond'] == 2 or infoOfGivenTrial['cond'] == 3:\n",
    "        if infoOfGivenTrial['firstStimulus'] == 'P':\n",
    "            for j in range(16):\n",
    "                picture04799.append(rawData04799[i][0][j])\n",
    "            for j in range(16,32):\n",
    "                sentence04799.append(rawData04799[i][0][j])\n",
    "        elif infoOfGivenTrial['firstStimulus'] == 'S':\n",
    "            for j in range(16):\n",
    "                sentence04799.append(rawData04799[i][0][j])\n",
    "            for j in range(16,32):\n",
    "                picture04799.append(rawData04799[i][0][j])\n",
    "            \n",
    "    "
   ]
  },
  {
   "cell_type": "code",
   "execution_count": 6,
   "metadata": {
    "collapsed": true
   },
   "outputs": [],
   "source": [
    "data04799 = sentence04799+picture04799"
   ]
  },
  {
   "cell_type": "code",
   "execution_count": 7,
   "metadata": {
    "collapsed": true
   },
   "outputs": [],
   "source": [
    "labels04799 = [1]*len(sentence04799) + [0]*len(picture04799)"
   ]
  },
  {
   "cell_type": "code",
   "execution_count": 23,
   "metadata": {
    "collapsed": true
   },
   "outputs": [],
   "source": [
    "accuracyForEachROI04799 = []"
   ]
  },
  {
   "cell_type": "code",
   "execution_count": 24,
   "metadata": {},
   "outputs": [
    {
     "name": "stdout",
     "output_type": "stream",
     "text": [
      "0\n",
      "1\n",
      "2\n",
      "3\n",
      "4\n",
      "5\n",
      "6\n",
      "7\n",
      "8\n",
      "9\n",
      "10\n",
      "11\n",
      "12\n",
      "13\n",
      "14\n",
      "15\n",
      "16\n",
      "17\n",
      "18\n",
      "19\n",
      "20\n",
      "21\n",
      "22\n",
      "23\n",
      "24\n"
     ]
    }
   ],
   "source": [
    "for i in range(25):\n",
    "    print i\n",
    "    cols = dataExtract_latest.getColumsFromROI('04799',i)\n",
    "    newData = []\n",
    "    \n",
    "    for d in data04799:\n",
    "        temp = []\n",
    "        for col in cols:\n",
    "            temp.append(d[col-1])\n",
    "        newData.append(temp)\n",
    "    x_train04799, x_test04799 , y_train04799, y_test04799 = train_test_split(newData,labels04799,test_size = 0.2)\n",
    "    clf = svm.SVC(kernel='linear')\n",
    "    clf.fit(x_train04799, y_train04799)\n",
    "    y_pred04799 = clf.predict(x_test04799)\n",
    "    accuracy = metrics.accuracy_score(y_test04799, y_pred04799)\n",
    "    accuracyForEachROI04799.append(accuracy)"
   ]
  },
  {
   "cell_type": "code",
   "execution_count": 25,
   "metadata": {},
   "outputs": [
    {
     "data": {
      "text/plain": [
       "[0.67578125,\n",
       " 0.5546875,\n",
       " 0.5078125,\n",
       " 0.55859375,\n",
       " 0.55859375,\n",
       " 0.54296875,\n",
       " 0.53125,\n",
       " 0.50390625,\n",
       " 0.4921875,\n",
       " 0.49609375,\n",
       " 0.53515625,\n",
       " 0.5625,\n",
       " 0.54296875,\n",
       " 0.4921875,\n",
       " 0.5390625,\n",
       " 0.51953125,\n",
       " 0.515625,\n",
       " 0.62890625,\n",
       " 0.49609375,\n",
       " 0.46875,\n",
       " 0.51171875,\n",
       " 0.5390625,\n",
       " 0.515625,\n",
       " 0.5703125,\n",
       " 0.53515625]"
      ]
     },
     "execution_count": 25,
     "metadata": {},
     "output_type": "execute_result"
    }
   ],
   "source": [
    "accuracyForEachROI04799"
   ]
  },
  {
   "cell_type": "code",
   "execution_count": 26,
   "metadata": {
    "collapsed": true
   },
   "outputs": [],
   "source": [
    "top7Rois = np.argpartition(accuracyForEachROI04799, -7)[-7:]"
   ]
  },
  {
   "cell_type": "code",
   "execution_count": 27,
   "metadata": {
    "collapsed": true
   },
   "outputs": [],
   "source": [
    "accuracyForTop7Rois04799 = []"
   ]
  },
  {
   "cell_type": "code",
   "execution_count": 28,
   "metadata": {
    "collapsed": true
   },
   "outputs": [],
   "source": [
    "cols = []\n",
    "for i in top7Rois:\n",
    "    cols.extend(dataExtract_latest.getColumsFromROI('04799',i))\n",
    "\n",
    "newData = []\n",
    "\n",
    "for d in data04799:\n",
    "    temp = []\n",
    "    for col in cols:\n",
    "        temp.append(d[col-1])\n",
    "    newData.append(temp)\n",
    "x_train04799, x_test04799 , y_train04799, y_test04799 = train_test_split(newData,labels04799,test_size = 0.2)\n",
    "clf = svm.SVC(kernel='linear')\n",
    "clf.fit(x_train04799, y_train04799)\n",
    "y_pred04799 = clf.predict(x_test04799)\n",
    "accuracy = metrics.accuracy_score(y_test04799, y_pred04799)\n",
    "accuracyForTop7Rois04799.append(accuracy)"
   ]
  },
  {
   "cell_type": "code",
   "execution_count": 29,
   "metadata": {},
   "outputs": [
    {
     "data": {
      "text/plain": [
       "[0.73046875]"
      ]
     },
     "execution_count": 29,
     "metadata": {},
     "output_type": "execute_result"
    }
   ],
   "source": [
    "accuracyForTop7Rois04799"
   ]
  },
  {
   "cell_type": "code",
   "execution_count": 33,
   "metadata": {
    "collapsed": true
   },
   "outputs": [],
   "source": [
    "top10Rois = np.argpartition(accuracyForEachROI04799, -10)[-10:]\n",
    "top5Rois = np.argpartition(accuracyForEachROI04799, -5)[-5:]\n"
   ]
  },
  {
   "cell_type": "code",
   "execution_count": 34,
   "metadata": {
    "collapsed": true
   },
   "outputs": [],
   "source": [
    "accuracyForTop10Rois04799 = []\n",
    "accuracyForTop5Rois04799 = []"
   ]
  },
  {
   "cell_type": "code",
   "execution_count": 35,
   "metadata": {
    "collapsed": true
   },
   "outputs": [],
   "source": [
    "cols = []\n",
    "for i in top5Rois:\n",
    "    cols.extend(dataExtract_latest.getColumsFromROI('04799',i))\n",
    "\n",
    "newData = []\n",
    "\n",
    "for d in data04799:\n",
    "    temp = []\n",
    "    for col in cols:\n",
    "        temp.append(d[col-1])\n",
    "    newData.append(temp)\n",
    "x_train04799, x_test04799 , y_train04799, y_test04799 = train_test_split(newData,labels04799,test_size = 0.2)\n",
    "clf = svm.SVC(kernel='linear')\n",
    "clf.fit(x_train04799, y_train04799)\n",
    "y_pred04799 = clf.predict(x_test04799)\n",
    "accuracy = metrics.accuracy_score(y_test04799, y_pred04799)\n",
    "accuracyForTop5Rois04799.append(accuracy)"
   ]
  },
  {
   "cell_type": "code",
   "execution_count": 36,
   "metadata": {
    "collapsed": true
   },
   "outputs": [],
   "source": [
    "cols = []\n",
    "for i in top10Rois:\n",
    "    cols.extend(dataExtract_latest.getColumsFromROI('04799',i))\n",
    "\n",
    "newData = []\n",
    "\n",
    "for d in data04799:\n",
    "    temp = []\n",
    "    for col in cols:\n",
    "        temp.append(d[col-1])\n",
    "    newData.append(temp)\n",
    "x_train04799, x_test04799 , y_train04799, y_test04799 = train_test_split(newData,labels04799,test_size = 0.2)\n",
    "clf = svm.SVC(kernel='linear')\n",
    "clf.fit(x_train04799, y_train04799)\n",
    "y_pred04799 = clf.predict(x_test04799)\n",
    "accuracy = metrics.accuracy_score(y_test04799, y_pred04799)\n",
    "accuracyForTop10Rois04799.append(accuracy)"
   ]
  },
  {
   "cell_type": "code",
   "execution_count": 37,
   "metadata": {},
   "outputs": [
    {
     "data": {
      "text/plain": [
       "[0.734375]"
      ]
     },
     "execution_count": 37,
     "metadata": {},
     "output_type": "execute_result"
    }
   ],
   "source": [
    "accuracyForTop5Rois04799"
   ]
  },
  {
   "cell_type": "code",
   "execution_count": 38,
   "metadata": {},
   "outputs": [
    {
     "data": {
      "text/plain": [
       "[0.71875]"
      ]
     },
     "execution_count": 38,
     "metadata": {},
     "output_type": "execute_result"
    }
   ],
   "source": [
    "accuracyForTop10Rois04799"
   ]
  },
  {
   "cell_type": "code",
   "execution_count": 39,
   "metadata": {
    "collapsed": true
   },
   "outputs": [],
   "source": [
    "top3Rois = np.argpartition(accuracyForEachROI04799, -3)[-3:]\n",
    "accuracyForTop3Rois04799 = []"
   ]
  },
  {
   "cell_type": "code",
   "execution_count": 40,
   "metadata": {
    "collapsed": true
   },
   "outputs": [],
   "source": [
    "cols = []\n",
    "for i in top3Rois:\n",
    "    cols.extend(dataExtract_latest.getColumsFromROI('04799',i))\n",
    "\n",
    "newData = []\n",
    "\n",
    "for d in data04799:\n",
    "    temp = []\n",
    "    for col in cols:\n",
    "        temp.append(d[col-1])\n",
    "    newData.append(temp)\n",
    "x_train04799, x_test04799 , y_train04799, y_test04799 = train_test_split(newData,labels04799,test_size = 0.2)\n",
    "clf = svm.SVC(kernel='linear')\n",
    "clf.fit(x_train04799, y_train04799)\n",
    "y_pred04799 = clf.predict(x_test04799)\n",
    "accuracy = metrics.accuracy_score(y_test04799, y_pred04799)\n",
    "accuracyForTop3Rois04799.append(accuracy)"
   ]
  },
  {
   "cell_type": "code",
   "execution_count": 41,
   "metadata": {},
   "outputs": [
    {
     "data": {
      "text/plain": [
       "[0.7265625]"
      ]
     },
     "execution_count": 41,
     "metadata": {},
     "output_type": "execute_result"
    }
   ],
   "source": [
    "accuracyForTop3Rois04799"
   ]
  },
  {
   "cell_type": "code",
   "execution_count": null,
   "metadata": {
    "collapsed": true
   },
   "outputs": [],
   "source": []
  }
 ],
 "metadata": {
  "kernelspec": {
   "display_name": "Python 2",
   "language": "python",
   "name": "python2"
  },
  "language_info": {
   "codemirror_mode": {
    "name": "ipython",
    "version": 2
   },
   "file_extension": ".py",
   "mimetype": "text/x-python",
   "name": "python",
   "nbconvert_exporter": "python",
   "pygments_lexer": "ipython2",
   "version": "2.7.13"
  }
 },
 "nbformat": 4,
 "nbformat_minor": 2
}
